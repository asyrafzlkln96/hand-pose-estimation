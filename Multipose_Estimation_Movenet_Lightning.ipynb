{
  "nbformat": 4,
  "nbformat_minor": 0,
  "metadata": {
    "colab": {
      "name": "Multipose Estimation-Movenet Lightning.ipynb",
      "provenance": [],
      "collapsed_sections": []
    },
    "kernelspec": {
      "name": "python3",
      "display_name": "Python 3"
    },
    "language_info": {
      "name": "python"
    }
  },
  "cells": [
    {
      "cell_type": "code",
      "metadata": {
        "colab": {
          "base_uri": "https://localhost:8080/"
        },
        "id": "B0SOU-wwxHrf",
        "outputId": "2db6868f-0644-46d0-c4d2-cef7b4835a6d"
      },
      "source": [
        "!pip install tensorflow==2.4.1 tensorflow-gpu==2.4.1 tensorflow-hub opencv-python matplotlib"
      ],
      "execution_count": null,
      "outputs": [
        {
          "output_type": "stream",
          "name": "stdout",
          "text": [
            "Collecting tensorflow==2.4.1\n",
            "  Downloading tensorflow-2.4.1-cp37-cp37m-manylinux2010_x86_64.whl (394.3 MB)\n",
            "\u001b[K     |████████████████████████████████| 394.3 MB 13 kB/s \n",
            "\u001b[?25hCollecting tensorflow-gpu==2.4.1\n",
            "  Downloading tensorflow_gpu-2.4.1-cp37-cp37m-manylinux2010_x86_64.whl (394.3 MB)\n",
            "\u001b[K     |████████████████████████████████| 394.3 MB 15 kB/s \n",
            "\u001b[?25hRequirement already satisfied: tensorflow-hub in /usr/local/lib/python3.7/dist-packages (0.12.0)\n",
            "Requirement already satisfied: opencv-python in /usr/local/lib/python3.7/dist-packages (4.1.2.30)\n",
            "Requirement already satisfied: matplotlib in /usr/local/lib/python3.7/dist-packages (3.2.2)\n",
            "Requirement already satisfied: wrapt~=1.12.1 in /usr/local/lib/python3.7/dist-packages (from tensorflow==2.4.1) (1.12.1)\n",
            "Collecting gast==0.3.3\n",
            "  Downloading gast-0.3.3-py2.py3-none-any.whl (9.7 kB)\n",
            "Collecting tensorflow-estimator<2.5.0,>=2.4.0\n",
            "  Downloading tensorflow_estimator-2.4.0-py2.py3-none-any.whl (462 kB)\n",
            "\u001b[K     |████████████████████████████████| 462 kB 50.7 MB/s \n",
            "\u001b[?25hRequirement already satisfied: keras-preprocessing~=1.1.2 in /usr/local/lib/python3.7/dist-packages (from tensorflow==2.4.1) (1.1.2)\n",
            "Requirement already satisfied: typing-extensions~=3.7.4 in /usr/local/lib/python3.7/dist-packages (from tensorflow==2.4.1) (3.7.4.3)\n",
            "Collecting grpcio~=1.32.0\n",
            "  Downloading grpcio-1.32.0-cp37-cp37m-manylinux2014_x86_64.whl (3.8 MB)\n",
            "\u001b[K     |████████████████████████████████| 3.8 MB 37.4 MB/s \n",
            "\u001b[?25hRequirement already satisfied: tensorboard~=2.4 in /usr/local/lib/python3.7/dist-packages (from tensorflow==2.4.1) (2.6.0)\n",
            "Collecting h5py~=2.10.0\n",
            "  Downloading h5py-2.10.0-cp37-cp37m-manylinux1_x86_64.whl (2.9 MB)\n",
            "\u001b[K     |████████████████████████████████| 2.9 MB 39.3 MB/s \n",
            "\u001b[?25hRequirement already satisfied: google-pasta~=0.2 in /usr/local/lib/python3.7/dist-packages (from tensorflow==2.4.1) (0.2.0)\n",
            "Requirement already satisfied: protobuf>=3.9.2 in /usr/local/lib/python3.7/dist-packages (from tensorflow==2.4.1) (3.17.3)\n",
            "Requirement already satisfied: six~=1.15.0 in /usr/local/lib/python3.7/dist-packages (from tensorflow==2.4.1) (1.15.0)\n",
            "Requirement already satisfied: wheel~=0.35 in /usr/local/lib/python3.7/dist-packages (from tensorflow==2.4.1) (0.37.0)\n",
            "Requirement already satisfied: opt-einsum~=3.3.0 in /usr/local/lib/python3.7/dist-packages (from tensorflow==2.4.1) (3.3.0)\n",
            "Requirement already satisfied: numpy~=1.19.2 in /usr/local/lib/python3.7/dist-packages (from tensorflow==2.4.1) (1.19.5)\n",
            "Requirement already satisfied: absl-py~=0.10 in /usr/local/lib/python3.7/dist-packages (from tensorflow==2.4.1) (0.12.0)\n",
            "Requirement already satisfied: flatbuffers~=1.12.0 in /usr/local/lib/python3.7/dist-packages (from tensorflow==2.4.1) (1.12)\n",
            "Requirement already satisfied: termcolor~=1.1.0 in /usr/local/lib/python3.7/dist-packages (from tensorflow==2.4.1) (1.1.0)\n",
            "Requirement already satisfied: astunparse~=1.6.3 in /usr/local/lib/python3.7/dist-packages (from tensorflow==2.4.1) (1.6.3)\n",
            "Requirement already satisfied: werkzeug>=0.11.15 in /usr/local/lib/python3.7/dist-packages (from tensorboard~=2.4->tensorflow==2.4.1) (1.0.1)\n",
            "Requirement already satisfied: google-auth-oauthlib<0.5,>=0.4.1 in /usr/local/lib/python3.7/dist-packages (from tensorboard~=2.4->tensorflow==2.4.1) (0.4.5)\n",
            "Requirement already satisfied: setuptools>=41.0.0 in /usr/local/lib/python3.7/dist-packages (from tensorboard~=2.4->tensorflow==2.4.1) (57.4.0)\n",
            "Requirement already satisfied: tensorboard-plugin-wit>=1.6.0 in /usr/local/lib/python3.7/dist-packages (from tensorboard~=2.4->tensorflow==2.4.1) (1.8.0)\n",
            "Requirement already satisfied: tensorboard-data-server<0.7.0,>=0.6.0 in /usr/local/lib/python3.7/dist-packages (from tensorboard~=2.4->tensorflow==2.4.1) (0.6.1)\n",
            "Requirement already satisfied: requests<3,>=2.21.0 in /usr/local/lib/python3.7/dist-packages (from tensorboard~=2.4->tensorflow==2.4.1) (2.23.0)\n",
            "Requirement already satisfied: markdown>=2.6.8 in /usr/local/lib/python3.7/dist-packages (from tensorboard~=2.4->tensorflow==2.4.1) (3.3.4)\n",
            "Requirement already satisfied: google-auth<2,>=1.6.3 in /usr/local/lib/python3.7/dist-packages (from tensorboard~=2.4->tensorflow==2.4.1) (1.34.0)\n",
            "Requirement already satisfied: pyasn1-modules>=0.2.1 in /usr/local/lib/python3.7/dist-packages (from google-auth<2,>=1.6.3->tensorboard~=2.4->tensorflow==2.4.1) (0.2.8)\n",
            "Requirement already satisfied: cachetools<5.0,>=2.0.0 in /usr/local/lib/python3.7/dist-packages (from google-auth<2,>=1.6.3->tensorboard~=2.4->tensorflow==2.4.1) (4.2.2)\n",
            "Requirement already satisfied: rsa<5,>=3.1.4 in /usr/local/lib/python3.7/dist-packages (from google-auth<2,>=1.6.3->tensorboard~=2.4->tensorflow==2.4.1) (4.7.2)\n",
            "Requirement already satisfied: requests-oauthlib>=0.7.0 in /usr/local/lib/python3.7/dist-packages (from google-auth-oauthlib<0.5,>=0.4.1->tensorboard~=2.4->tensorflow==2.4.1) (1.3.0)\n",
            "Requirement already satisfied: importlib-metadata in /usr/local/lib/python3.7/dist-packages (from markdown>=2.6.8->tensorboard~=2.4->tensorflow==2.4.1) (4.6.4)\n",
            "Requirement already satisfied: pyasn1<0.5.0,>=0.4.6 in /usr/local/lib/python3.7/dist-packages (from pyasn1-modules>=0.2.1->google-auth<2,>=1.6.3->tensorboard~=2.4->tensorflow==2.4.1) (0.4.8)\n",
            "Requirement already satisfied: certifi>=2017.4.17 in /usr/local/lib/python3.7/dist-packages (from requests<3,>=2.21.0->tensorboard~=2.4->tensorflow==2.4.1) (2021.5.30)\n",
            "Requirement already satisfied: idna<3,>=2.5 in /usr/local/lib/python3.7/dist-packages (from requests<3,>=2.21.0->tensorboard~=2.4->tensorflow==2.4.1) (2.10)\n",
            "Requirement already satisfied: chardet<4,>=3.0.2 in /usr/local/lib/python3.7/dist-packages (from requests<3,>=2.21.0->tensorboard~=2.4->tensorflow==2.4.1) (3.0.4)\n",
            "Requirement already satisfied: urllib3!=1.25.0,!=1.25.1,<1.26,>=1.21.1 in /usr/local/lib/python3.7/dist-packages (from requests<3,>=2.21.0->tensorboard~=2.4->tensorflow==2.4.1) (1.24.3)\n",
            "Requirement already satisfied: oauthlib>=3.0.0 in /usr/local/lib/python3.7/dist-packages (from requests-oauthlib>=0.7.0->google-auth-oauthlib<0.5,>=0.4.1->tensorboard~=2.4->tensorflow==2.4.1) (3.1.1)\n",
            "Requirement already satisfied: python-dateutil>=2.1 in /usr/local/lib/python3.7/dist-packages (from matplotlib) (2.8.2)\n",
            "Requirement already satisfied: cycler>=0.10 in /usr/local/lib/python3.7/dist-packages (from matplotlib) (0.10.0)\n",
            "Requirement already satisfied: kiwisolver>=1.0.1 in /usr/local/lib/python3.7/dist-packages (from matplotlib) (1.3.1)\n",
            "Requirement already satisfied: pyparsing!=2.0.4,!=2.1.2,!=2.1.6,>=2.0.1 in /usr/local/lib/python3.7/dist-packages (from matplotlib) (2.4.7)\n",
            "Requirement already satisfied: zipp>=0.5 in /usr/local/lib/python3.7/dist-packages (from importlib-metadata->markdown>=2.6.8->tensorboard~=2.4->tensorflow==2.4.1) (3.5.0)\n",
            "Installing collected packages: grpcio, tensorflow-estimator, h5py, gast, tensorflow-gpu, tensorflow\n",
            "  Attempting uninstall: grpcio\n",
            "    Found existing installation: grpcio 1.39.0\n",
            "    Uninstalling grpcio-1.39.0:\n",
            "      Successfully uninstalled grpcio-1.39.0\n",
            "  Attempting uninstall: tensorflow-estimator\n",
            "    Found existing installation: tensorflow-estimator 2.6.0\n",
            "    Uninstalling tensorflow-estimator-2.6.0:\n",
            "      Successfully uninstalled tensorflow-estimator-2.6.0\n",
            "  Attempting uninstall: h5py\n",
            "    Found existing installation: h5py 3.1.0\n",
            "    Uninstalling h5py-3.1.0:\n",
            "      Successfully uninstalled h5py-3.1.0\n",
            "  Attempting uninstall: gast\n",
            "    Found existing installation: gast 0.4.0\n",
            "    Uninstalling gast-0.4.0:\n",
            "      Successfully uninstalled gast-0.4.0\n",
            "  Attempting uninstall: tensorflow\n",
            "    Found existing installation: tensorflow 2.6.0\n",
            "    Uninstalling tensorflow-2.6.0:\n",
            "      Successfully uninstalled tensorflow-2.6.0\n",
            "Successfully installed gast-0.3.3 grpcio-1.32.0 h5py-2.10.0 tensorflow-2.4.1 tensorflow-estimator-2.4.0 tensorflow-gpu-2.4.1\n"
          ]
        }
      ]
    },
    {
      "cell_type": "code",
      "metadata": {
        "id": "OgyvAGNRxd1q"
      },
      "source": [
        "import tensorflow as tf\n",
        "import tensorflow_hub as hub\n",
        "import cv2\n",
        "from matplotlib import pyplot as plt\n",
        "import numpy as np"
      ],
      "execution_count": null,
      "outputs": []
    },
    {
      "cell_type": "code",
      "metadata": {
        "id": "uZuyFuCcxgJM"
      },
      "source": [
        "# Optional if you are using a GPU\n",
        "gpus = tf.config.experimental.list_physical_devices('GPU')\n",
        "for gpu in gpus:\n",
        "    tf.config.experimental.set_memory_growth(gpu, True)"
      ],
      "execution_count": null,
      "outputs": []
    },
    {
      "cell_type": "code",
      "metadata": {
        "colab": {
          "base_uri": "https://localhost:8080/"
        },
        "id": "AklJjAA-ydiU",
        "outputId": "ec5036dd-534f-48ba-e734-caa521d86269"
      },
      "source": [
        "gpus"
      ],
      "execution_count": null,
      "outputs": [
        {
          "output_type": "execute_result",
          "data": {
            "text/plain": [
              "[]"
            ]
          },
          "metadata": {},
          "execution_count": 4
        }
      ]
    },
    {
      "cell_type": "code",
      "metadata": {
        "id": "2UIuQHVJyzkn"
      },
      "source": [
        "# Load tf model - tf hub\n",
        "\n",
        "model = hub.load('https://tfhub.dev/google/movenet/multipose/lightning/1')\n",
        "movenet = model.signatures['serving_default']"
      ],
      "execution_count": null,
      "outputs": []
    },
    {
      "cell_type": "code",
      "metadata": {
        "id": "dhoPYM_EzDfI"
      },
      "source": [
        "# Function to loop through each person detected and render\n",
        "def loop_through_people(frame, keypoints_with_scores, edges, confidence_threshold):\n",
        "    for person in keypoints_with_scores:\n",
        "        draw_connections(frame, person, edges, confidence_threshold)\n",
        "        draw_keypoints(frame, person, confidence_threshold)\n"
      ],
      "execution_count": null,
      "outputs": []
    },
    {
      "cell_type": "code",
      "metadata": {
        "colab": {
          "base_uri": "https://localhost:8080/"
        },
        "id": "iYyIL-gZx0H7",
        "outputId": "2f2a7f11-5ce2-46ae-9653-b7d3189f8710"
      },
      "source": [
        "keypoints_with_scores"
      ],
      "execution_count": null,
      "outputs": [
        {
          "output_type": "execute_result",
          "data": {
            "text/plain": [
              "array([[[0.25834775, 0.5408366 , 0.05116737],\n",
              "        [0.24410693, 0.53407496, 0.05219578],\n",
              "        [0.24119121, 0.5368299 , 0.02025731],\n",
              "        [0.22607654, 0.54420346, 0.02731268],\n",
              "        [0.21235251, 0.5604679 , 0.00349459],\n",
              "        [0.28715453, 0.57217693, 0.58555305],\n",
              "        [0.2545454 , 0.6423888 , 0.21984716],\n",
              "        [0.42294034, 0.58246154, 0.42485765],\n",
              "        [0.3455479 , 0.71094906, 0.35909   ],\n",
              "        [0.4852066 , 0.5320556 , 0.30681893],\n",
              "        [0.43218693, 0.7534687 , 0.02655523],\n",
              "        [0.49180648, 0.62585276, 0.92381966],\n",
              "        [0.4878916 , 0.6699772 , 0.8776848 ],\n",
              "        [0.6930829 , 0.5859337 , 0.4875254 ],\n",
              "        [0.6957819 , 0.6709181 , 0.7538778 ],\n",
              "        [0.88263655, 0.5557181 , 0.11395708],\n",
              "        [0.87014216, 0.6915654 , 0.53134507]],\n",
              "\n",
              "       [[0.4443844 , 0.16775131, 0.41363984],\n",
              "        [0.44093335, 0.17436026, 0.47985533],\n",
              "        [0.43956313, 0.16224383, 0.38513002],\n",
              "        [0.44961774, 0.18192819, 0.4442256 ],\n",
              "        [0.44870815, 0.15538035, 0.36934382],\n",
              "        [0.48536682, 0.19136634, 0.45607707],\n",
              "        [0.47635275, 0.14128572, 0.32891312],\n",
              "        [0.52144885, 0.20285106, 0.1924928 ],\n",
              "        [0.48736364, 0.13765128, 0.17188667],\n",
              "        [0.538495  , 0.18472275, 0.1722954 ],\n",
              "        [0.55540574, 0.13963056, 0.17746753],\n",
              "        [0.57033235, 0.17972137, 0.34186465],\n",
              "        [0.55760825, 0.15062745, 0.3196251 ],\n",
              "        [0.6068409 , 0.19374917, 0.096639  ],\n",
              "        [0.5938496 , 0.1397538 , 0.10763866],\n",
              "        [0.6333702 , 0.18731064, 0.08017967],\n",
              "        [0.63958   , 0.15069243, 0.08274303]],\n",
              "\n",
              "       [[0.29737508, 0.11947216, 0.60371   ],\n",
              "        [0.29108846, 0.12284853, 0.5141896 ],\n",
              "        [0.2911532 , 0.11624002, 0.45500857],\n",
              "        [0.29603416, 0.12468183, 0.5918041 ],\n",
              "        [0.29606122, 0.11107476, 0.62577116],\n",
              "        [0.32737398, 0.1342955 , 0.6315648 ],\n",
              "        [0.33186123, 0.10066313, 0.5403817 ],\n",
              "        [0.36558205, 0.14180186, 0.28876254],\n",
              "        [0.3832404 , 0.09155862, 0.38473126],\n",
              "        [0.35999426, 0.13413015, 0.2845001 ],\n",
              "        [0.3684206 , 0.11972002, 0.28858364],\n",
              "        [0.40238318, 0.12803118, 0.49931252],\n",
              "        [0.4139325 , 0.10884277, 0.43290818],\n",
              "        [0.4665804 , 0.13998102, 0.22968678],\n",
              "        [0.4512857 , 0.10211769, 0.22870056],\n",
              "        [0.483173  , 0.13840537, 0.2475459 ],\n",
              "        [0.5012169 , 0.09604257, 0.20245925]],\n",
              "\n",
              "       [[0.28970116, 0.17162892, 0.63347596],\n",
              "        [0.28258848, 0.17662893, 0.4733166 ],\n",
              "        [0.2825073 , 0.16965935, 0.42851537],\n",
              "        [0.28634435, 0.18658854, 0.57618296],\n",
              "        [0.28551725, 0.17097336, 0.71391994],\n",
              "        [0.3177301 , 0.20229118, 0.8703846 ],\n",
              "        [0.3292694 , 0.15830572, 0.5756131 ],\n",
              "        [0.37073594, 0.20719242, 0.42559814],\n",
              "        [0.36550054, 0.14555998, 0.24657105],\n",
              "        [0.37844953, 0.19635442, 0.3974543 ],\n",
              "        [0.37930238, 0.18313925, 0.31014612],\n",
              "        [0.4081514 , 0.18792908, 0.3990742 ],\n",
              "        [0.4072035 , 0.15975285, 0.26385644],\n",
              "        [0.40942475, 0.21388982, 0.07185291],\n",
              "        [0.4682324 , 0.1394975 , 0.27224496],\n",
              "        [0.47815317, 0.18507463, 0.08401758],\n",
              "        [0.42889148, 0.14726685, 0.16945262]],\n",
              "\n",
              "       [[0.45166385, 0.23375463, 0.61140686],\n",
              "        [0.44509238, 0.23868564, 0.51574916],\n",
              "        [0.4446174 , 0.23020363, 0.5253582 ],\n",
              "        [0.45038733, 0.24340115, 0.50403494],\n",
              "        [0.45179233, 0.22674637, 0.5063148 ],\n",
              "        [0.48811764, 0.2533284 , 0.49828672],\n",
              "        [0.4898401 , 0.21695614, 0.6781794 ],\n",
              "        [0.5239576 , 0.2617587 , 0.22228825],\n",
              "        [0.51676124, 0.21194552, 0.42804617],\n",
              "        [0.55717695, 0.26602748, 0.13854034],\n",
              "        [0.5334054 , 0.22615992, 0.22090858],\n",
              "        [0.5471282 , 0.25046867, 0.384253  ],\n",
              "        [0.5686523 , 0.22880092, 0.32304022],\n",
              "        [0.59744656, 0.27672243, 0.16507338],\n",
              "        [0.5984211 , 0.22755662, 0.27366453],\n",
              "        [0.5619726 , 0.2477185 , 0.17093809],\n",
              "        [0.5658092 , 0.23354827, 0.2185482 ]],\n",
              "\n",
              "       [[0.45015106, 0.31617448, 0.65571547],\n",
              "        [0.4428897 , 0.32029396, 0.72434664],\n",
              "        [0.4424232 , 0.31301606, 0.6070486 ],\n",
              "        [0.44643825, 0.32514372, 0.4859492 ],\n",
              "        [0.44637823, 0.3069157 , 0.39101934],\n",
              "        [0.4877841 , 0.33849353, 0.7423571 ],\n",
              "        [0.49246606, 0.28460276, 0.564594  ],\n",
              "        [0.5460998 , 0.3410856 , 0.47929853],\n",
              "        [0.54936063, 0.27653345, 0.5067999 ],\n",
              "        [0.5590966 , 0.33418718, 0.47678295],\n",
              "        [0.56059176, 0.29604095, 0.45619985],\n",
              "        [0.5809108 , 0.32627377, 0.6208814 ],\n",
              "        [0.5843447 , 0.2942203 , 0.39432526],\n",
              "        [0.61025715, 0.3375241 , 0.12381493],\n",
              "        [0.6291325 , 0.29327545, 0.21636772],\n",
              "        [0.5951257 , 0.3267102 , 0.143764  ],\n",
              "        [0.6554521 , 0.29332393, 0.20423037]]], dtype=float32)"
            ]
          },
          "metadata": {},
          "execution_count": 9
        }
      ]
    },
    {
      "cell_type": "code",
      "metadata": {
        "id": "HC9ZBB1Yx0J5"
      },
      "source": [
        "def draw_keypoints(frame, keypoints, confidence_threshold):\n",
        "    y, x, c = frame.shape\n",
        "    shaped = np.squeeze(np.multiply(keypoints, [y,x,1]))\n",
        "    \n",
        "    for kp in shaped:\n",
        "        ky, kx, kp_conf = kp\n",
        "        if kp_conf > confidence_threshold:\n",
        "            cv2.circle(frame, (int(kx), int(ky)), 6, (0,255,0), -1)"
      ],
      "execution_count": null,
      "outputs": []
    },
    {
      "cell_type": "code",
      "metadata": {
        "id": "fZsN24Z4zLHp"
      },
      "source": [
        "EDGES = {\n",
        "    (0, 1): 'm',\n",
        "    (0, 2): 'c',\n",
        "    (1, 3): 'm',\n",
        "    (2, 4): 'c',\n",
        "    (0, 5): 'm',\n",
        "    (0, 6): 'c',\n",
        "    (5, 7): 'm',\n",
        "    (7, 9): 'm',\n",
        "    (6, 8): 'c',\n",
        "    (8, 10): 'c',\n",
        "    (5, 6): 'y',\n",
        "    (5, 11): 'm',\n",
        "    (6, 12): 'c',\n",
        "    (11, 12): 'y',\n",
        "    (11, 13): 'm',\n",
        "    (13, 15): 'm',\n",
        "    (12, 14): 'c',\n",
        "    (14, 16): 'c'\n",
        "}"
      ],
      "execution_count": null,
      "outputs": []
    },
    {
      "cell_type": "code",
      "metadata": {
        "id": "xoSdOA0yzNsD"
      },
      "source": [
        "def draw_connections(frame, keypoints, edges, confidence_threshold):\n",
        "    y, x, c = frame.shape\n",
        "    shaped = np.squeeze(np.multiply(keypoints, [y,x,1]))\n",
        "    \n",
        "    for edge, color in edges.items():\n",
        "        p1, p2 = edge\n",
        "        y1, x1, c1 = shaped[p1]\n",
        "        y2, x2, c2 = shaped[p2]\n",
        "        \n",
        "        if (c1 > confidence_threshold) & (c2 > confidence_threshold):      \n",
        "            cv2.line(frame, (int(x1), int(y1)), (int(x2), int(y2)), (0,0,255), 4)"
      ],
      "execution_count": null,
      "outputs": []
    },
    {
      "cell_type": "code",
      "metadata": {
        "id": "igihOzv1zPws"
      },
      "source": [
        "cap = cv2.VideoCapture('novak.mp4')\n",
        "while cap.isOpened():\n",
        "    from google.colab.patches import cv2_imshow\n",
        "    ret, frame = cap.read()\n",
        "    \n",
        "    # Resize image\n",
        "    img = frame.copy()\n",
        "    img = tf.image.resize_with_pad(tf.expand_dims(img, axis=0), 384,640)\n",
        "    input_img = tf.cast(img, dtype=tf.int32)\n",
        "    \n",
        "    # Detection section\n",
        "    results = movenet(input_img)\n",
        "    keypoints_with_scores = results['output_0'].numpy()[:,:,:51].reshape((6,17,3))\n",
        "    \n",
        "    # Render keypoints \n",
        "    loop_through_people(frame, keypoints_with_scores, EDGES, 0.1)\n",
        "    \n",
        "    cv2_imshow(frame)\n",
        "    \n",
        "    if cv2.waitKey(10) & 0xFF==ord('q'):\n",
        "        break\n",
        "cap.release()\n",
        "cv2.destroyAllWindows()"
      ],
      "execution_count": null,
      "outputs": []
    }
  ]
}